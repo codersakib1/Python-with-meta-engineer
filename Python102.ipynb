{
 "cells": [
  {
   "cell_type": "markdown",
   "id": "dc4cf992",
   "metadata": {},
   "source": [
    "# Tutorial 3: Python Arrat / Lis\n",
    "\n",
    "Topic:\n",
    "    1. Array/List\n",
    "    2. Hashmap\n",
    "    3. Tree/Grap\n",
    "    4. Heap/ Q\n",
    "    5. String"
   ]
  },
  {
   "cell_type": "code",
   "execution_count": 7,
   "id": "f1d7afd0",
   "metadata": {},
   "outputs": [],
   "source": [
    "shopping_list=[\"daal\", \"rice\", \"beef\"] #list []\n",
    "int_list =[0, 1, 2, 3, 4, 5]\n"
   ]
  },
  {
   "cell_type": "code",
   "execution_count": 10,
   "id": "7918884a",
   "metadata": {},
   "outputs": [
    {
     "name": "stdout",
     "output_type": "stream",
     "text": [
      "['daal', 'rice', 'beef']\n",
      "[0, 1, 2, 3, 4, 5]\n"
     ]
    }
   ],
   "source": [
    "print(shopping_list)\n",
    "print(int_list)"
   ]
  },
  {
   "cell_type": "code",
   "execution_count": 18,
   "id": "0832f970",
   "metadata": {},
   "outputs": [
    {
     "name": "stdout",
     "output_type": "stream",
     "text": [
      "2\n",
      "5\n",
      "[1, 2, 3, 4]\n",
      "[0, 1, 2, 3, 4, 5]\n",
      "[3, 4, 5]\n"
     ]
    }
   ],
   "source": [
    "print(int_list[2])\n",
    "print(int_list[-1]) #slasing\n",
    "print(int_list[1:5])\n",
    "print(int_list[:])\n",
    "print(int_list[3:]) # last theke dekhte caile last address dite hbe na & 1St theke dekhte caile 1st address dite hbe na\n"
   ]
  },
  {
   "cell_type": "code",
   "execution_count": 23,
   "id": "db2e643d",
   "metadata": {},
   "outputs": [
    {
     "name": "stdout",
     "output_type": "stream",
     "text": [
      "5\n",
      "0\n",
      "15\n",
      "5\n"
     ]
    }
   ],
   "source": [
    "max_value = max(int_list)\n",
    "print(max_value)\n",
    "\n",
    "min_value = min(int_list)\n",
    "print(min_value)\n",
    "\n",
    "print(sum(int_list))\n",
    "print(max(int_list))"
   ]
  },
  {
   "cell_type": "code",
   "execution_count": 26,
   "id": "f61338d7",
   "metadata": {},
   "outputs": [
    {
     "name": "stdout",
     "output_type": "stream",
     "text": [
      "100\n"
     ]
    }
   ],
   "source": [
    "int_list =[0, 1, 2, 100, 4, 5,10]\n",
    "max_value = int_list[0]\n",
    "for val in int_list:\n",
    "    if val>max_value:\n",
    "        max_value = val\n",
    "        \n",
    "print (max_value)"
   ]
  }
 ],
 "metadata": {
  "kernelspec": {
   "display_name": "Python 3 (ipykernel)",
   "language": "python",
   "name": "python3"
  },
  "language_info": {
   "codemirror_mode": {
    "name": "ipython",
    "version": 3
   },
   "file_extension": ".py",
   "mimetype": "text/x-python",
   "name": "python",
   "nbconvert_exporter": "python",
   "pygments_lexer": "ipython3",
   "version": "3.11.5"
  }
 },
 "nbformat": 4,
 "nbformat_minor": 5
}
